{
 "cells": [
  {
   "cell_type": "markdown",
   "metadata": {},
   "source": [
    "# Getting started with Ensemblify"
   ]
  },
  {
   "cell_type": "markdown",
   "metadata": {},
   "source": [
    "Ensemblify is a library used for generating and analyzing protein conformational ensembles of proteins. In this notebook you can find some examples of its usage."
   ]
  },
  {
   "cell_type": "code",
   "execution_count": null,
   "metadata": {},
   "outputs": [],
   "source": [
    "# Uncomment for running in Google Colab\n",
    "#!pip install ensemblify"
   ]
  },
  {
   "cell_type": "code",
   "execution_count": null,
   "metadata": {},
   "outputs": [],
   "source": [
    "# meter imports aqui"
   ]
  },
  {
   "cell_type": "code",
   "execution_count": null,
   "metadata": {},
   "outputs": [],
   "source": [
    "# Import Ensemblify library\n",
    "import ensemblify as ey"
   ]
  },
  {
   "cell_type": "markdown",
   "metadata": {},
   "source": [
    "# Setting up your conformational sampling parameters file"
   ]
  },
  {
   "cell_type": "code",
   "execution_count": null,
   "metadata": {},
   "outputs": [],
   "source": []
  },
  {
   "cell_type": "markdown",
   "metadata": {},
   "source": [
    "# Generating a conformational ensemble"
   ]
  },
  {
   "cell_type": "code",
   "execution_count": null,
   "metadata": {},
   "outputs": [],
   "source": [
    "# Uncomment for running in Google Colab\n",
    "#! curl -OJL https://github.com/npfernandes/ensemblify/raw/main/examples/input_structures/Hst5.pdb"
   ]
  },
  {
   "cell_type": "code",
   "execution_count": 1,
   "metadata": {},
   "outputs": [
    {
     "name": "stdout",
     "output_type": "stream",
     "text": [
      "['Lagrange multipliers initialized from zero\\n', 'Optimizing 1043 data and 10000 samples. Theta=1 \\n', 'CHI2 before optimization:   1.9652 \\n', 'Execution time: 25.36 seconds\\n', 'Minimization using L-BFGS-B successful (iterations:142)\\n', 'CHI2 after optimization:   0.9915 \\n', 'Fraction of effective frames:   0.2434 \\n']\n",
      "['Lagrange multipliers initialized from zero\\n', 'Optimizing 1043 data and 10000 samples. Theta=10 \\n', 'CHI2 before optimization:   1.9652 \\n', 'Execution time: 9.10 seconds\\n', 'Minimization using L-BFGS-B successful (iterations:51)\\n', 'CHI2 after optimization:   0.9960 \\n', 'Fraction of effective frames:   0.4528 \\n']\n",
      "['Lagrange multipliers initialized from zero\\n', 'Optimizing 1043 data and 10000 samples. Theta=20 \\n', 'CHI2 before optimization:   1.9659 \\n', 'Execution time: 7.21 seconds\\n', 'Minimization using L-BFGS-B successful (iterations:45)\\n', 'CHI2 after optimization:   0.9988 \\n', 'Fraction of effective frames:   0.5205 \\n']\n",
      "['Lagrange multipliers initialized from zero\\n', 'Optimizing 1043 data and 10000 samples. Theta=20 \\n', 'CHI2 before optimization:   1.9659 \\n', 'Execution time: 7.21 seconds\\n', 'Minimization using L-BFGS-B successful (iterations:45)\\n', 'CHI2 after optimization:   0.9988 \\n', 'Fraction of effective frames:   0.5205 \\n']\n",
      "['Lagrange multipliers initialized from zero\\n', 'Optimizing 1043 data and 10000 samples. Theta=50 \\n', 'CHI2 before optimization:   1.9652 \\n', 'Execution time: 7.91 seconds\\n', 'Minimization using L-BFGS-B successful (iterations:28)\\n', 'CHI2 after optimization:   1.0099 \\n', 'Fraction of effective frames:   0.6147 \\n']\n",
      "['Lagrange multipliers initialized from zero\\n', 'Optimizing 1043 data and 10000 samples. Theta=75 \\n', 'CHI2 before optimization:   1.9652 \\n', 'Execution time: 7.08 seconds\\n', 'Minimization using L-BFGS-B successful (iterations:25)\\n', 'CHI2 after optimization:   1.0178 \\n', 'Fraction of effective frames:   0.6572 \\n']\n",
      "['Lagrange multipliers initialized from zero\\n', 'Optimizing 1043 data and 10000 samples. Theta=100 \\n', 'CHI2 before optimization:   1.9652 \\n', 'Execution time: 3.98 seconds\\n', 'Minimization using L-BFGS-B successful (iterations:21)\\n', 'CHI2 after optimization:   1.0254 \\n', 'Fraction of effective frames:   0.6882 \\n']\n",
      "['Lagrange multipliers initialized from zero\\n', 'Optimizing 1043 data and 10000 samples. Theta=200 \\n', 'CHI2 before optimization:   1.9652 \\n', 'Execution time: 3.33 seconds\\n', 'Minimization using L-BFGS-B successful (iterations:18)\\n', 'CHI2 after optimization:   1.0528 \\n', 'Fraction of effective frames:   0.7605 \\n']\n",
      "['Lagrange multipliers initialized from zero\\n', 'Optimizing 1043 data and 10000 samples. Theta=400 \\n', 'CHI2 before optimization:   1.9652 \\n', 'Execution time: 4.14 seconds\\n', 'Minimization using L-BFGS-B successful (iterations:16)\\n', 'CHI2 after optimization:   1.0972 \\n', 'Fraction of effective frames:   0.8249 \\n']\n",
      "['Lagrange multipliers initialized from zero\\n', 'Optimizing 1043 data and 10000 samples. Theta=750 \\n', 'CHI2 before optimization:   1.9652 \\n', 'Execution time: 2.84 seconds\\n', 'Minimization using L-BFGS-B successful (iterations:15)\\n', 'CHI2 after optimization:   1.1626 \\n', 'Fraction of effective frames:   0.8775 \\n']\n",
      "['Lagrange multipliers initialized from zero\\n', 'Optimizing 1043 data and 10000 samples. Theta=1000 \\n', 'CHI2 before optimization:   1.9652 \\n', 'Execution time: 2.68 seconds\\n', 'Minimization using L-BFGS-B successful (iterations:14)\\n', 'CHI2 after optimization:   1.2045 \\n', 'Fraction of effective frames:   0.8999 \\n']\n",
      "['Lagrange multipliers initialized from zero\\n', 'Optimizing 1043 data and 10000 samples. Theta=5000 \\n', 'CHI2 before optimization:   1.9652 \\n', 'Execution time: 3.81 seconds\\n', 'Minimization using L-BFGS-B successful (iterations:12)\\n', 'CHI2 after optimization:   1.5637 \\n', 'Fraction of effective frames:   0.9828 \\n']\n",
      "['Lagrange multipliers initialized from zero\\n', 'Optimizing 1043 data and 10000 samples. Theta=10000 \\n', 'CHI2 before optimization:   1.9652 \\n', 'Execution time: 2.03 seconds\\n', 'Minimization using L-BFGS-B successful (iterations:10)\\n', 'CHI2 after optimization:   1.7148 \\n', 'Fraction of effective frames:   0.9941 \\n']\n",
      "Found calculated BME reweighting data with theta values: [200, 20, 1, 1000, 750, 10000, 20, 400, 50, 100, 10, 75, 5000]\n"
     ]
    },
    {
     "data": {
      "text/plain": [
       "('/home/tiagogomes/Desktop/projects/nuno_fernandes/NProtein_sarscov2/NProtein_365_TetramerClosed_Ensemble/testing_hst5_anal/reweighting/Hst5_exp_saxs.dat',\n",
       " '/home/tiagogomes/Desktop/projects/nuno_fernandes/NProtein_sarscov2/NProtein_365_TetramerClosed_Ensemble/testing_hst5_anal/reweighting/Hst5_calc_saxs.dat',\n",
       " array([    1,    10,    20,    20,    50,    75,   100,   200,   400,\n",
       "          750,  1000,  5000, 10000]),\n",
       " array([[1.9652, 0.9915, 0.2434],\n",
       "        [1.9652, 0.996 , 0.4528],\n",
       "        [1.9659, 0.9988, 0.5205],\n",
       "        [1.9659, 0.9988, 0.5205],\n",
       "        [1.9652, 1.0099, 0.6147],\n",
       "        [1.9652, 1.0178, 0.6572],\n",
       "        [1.9652, 1.0254, 0.6882],\n",
       "        [1.9652, 1.0528, 0.7605],\n",
       "        [1.9652, 1.0972, 0.8249],\n",
       "        [1.9652, 1.1626, 0.8775],\n",
       "        [1.9652, 1.2045, 0.8999],\n",
       "        [1.9652, 1.5637, 0.9828],\n",
       "        [1.9652, 1.7148, 0.9941]]),\n",
       " array([[1.6874e-04, 7.0617e-05, 5.1591e-05, ..., 1.9897e-04, 1.1012e-04,\n",
       "         9.4854e-05],\n",
       "        [1.1384e-04, 6.2872e-05, 7.4096e-05, ..., 1.3184e-04, 9.2901e-05,\n",
       "         9.1485e-05],\n",
       "        [9.1479e-05, 6.1438e-05, 7.8212e-05, ..., 1.1303e-04, 8.5411e-05,\n",
       "         8.3565e-05],\n",
       "        ...,\n",
       "        [1.1229e-04, 6.2833e-05, 1.1288e-04, ..., 6.9946e-05, 7.2088e-05,\n",
       "         1.2616e-04],\n",
       "        [1.0907e-04, 8.4042e-05, 1.0908e-04, ..., 8.7250e-05, 8.8434e-05,\n",
       "         1.1478e-04],\n",
       "        [1.0573e-04, 9.0793e-05, 1.0576e-04, ..., 9.2759e-05, 9.3455e-05,\n",
       "         1.0891e-04]]))"
      ]
     },
     "execution_count": 1,
     "metadata": {},
     "output_type": "execute_result"
    }
   ],
   "source": [
    "from ensemblify.reweighting.ensemble_utils import attempt_read_reweigthing_data\n",
    "\n",
    "attempt_read_reweigthing_data('/home/tiagogomes/Desktop/projects/nuno_fernandes/NProtein_sarscov2/NProtein_365_TetramerClosed_Ensemble/testing_hst5_anal/reweighting',\n",
    "                              'Hst5')"
   ]
  },
  {
   "cell_type": "code",
   "execution_count": null,
   "metadata": {},
   "outputs": [],
   "source": []
  }
 ],
 "metadata": {
  "kernelspec": {
   "display_name": "ensemblify_env",
   "language": "python",
   "name": "python3"
  },
  "language_info": {
   "codemirror_mode": {
    "name": "ipython",
    "version": 3
   },
   "file_extension": ".py",
   "mimetype": "text/x-python",
   "name": "python",
   "nbconvert_exporter": "python",
   "pygments_lexer": "ipython3",
   "version": "3.10.15"
  }
 },
 "nbformat": 4,
 "nbformat_minor": 2
}
