{
 "cells": [
  {
   "cell_type": "markdown",
   "metadata": {},
   "source": [
    "# Ensemblify Quick Reference Guide"
   ]
  },
  {
   "cell_type": "markdown",
   "metadata": {},
   "source": [
    "Ensemblify is a library used for generating and analyzing protein conformational ensembles of proteins.\n",
    "\n",
    "This notebook will walk you through a typical Ensemblify workflow, with basic usage examples for all available modules."
   ]
  },
  {
   "cell_type": "markdown",
   "metadata": {},
   "source": [
    "# `generation` module"
   ]
  },
  {
   "cell_type": "markdown",
   "metadata": {},
   "source": [
    "## 1. Setting up your parameters file"
   ]
  },
  {
   "cell_type": "markdown",
   "metadata": {},
   "source": [
    "Before generating a conformational ensemble for your protein of interest, you must first create an Ensemblify parameters file, optionally using the provided HTML form.\n",
    "\n",
    "You must provide at least:\n",
    "\n",
    "- **job_name**: prefix identifier for files and directories created during ensemble generation.\n",
    "\n",
    "- **sequence**: the sequence or structure of your protein of interest. This can be a sequence string, the path to a text file containing that sequence string, the path to a PDB file of your protein or a UniProt Acession Number if you want Ensemblify to automatically fetch the AlphaFold prediction for your protein from the AlphaFold Protein Structure Database.\n",
    "\n",
    "- **size**: the number of alternate conformations of your protein you want to include in the ensemble.\n",
    "\n",
    "- **databases**: a mapping of database IDs to the path where each database is stored. You must provide at least one database to sample dihedral angles from.\n",
    "\n",
    "- **targets**: a mapping of protein chain letters found in your input PDB file to a list of target sampling regions. Each sampling region is defined by its range of residue numbers (e.g. [1,50]), database to sample from (i.e. a database ID present in **databases**) and sampling mode ('TRIPEPTIDE' or 'SINGLERESIDUE').\n",
    "\n",
    "- **output_path**: the path to the directory where Ensemblify will store the created ensemble. This parameter defaults to the current working directory, so we recommend that you choose an appropriate location.\n",
    "\n",
    "You can check the provided parameters file template for an example. We can read and display its contents:"
   ]
  },
  {
   "cell_type": "code",
   "execution_count": 2,
   "metadata": {},
   "outputs": [
    {
     "name": "stdout",
     "output_type": "stream",
     "text": [
      "{'job_name': 'Hst5_test',\n",
      " 'sequence': 'DSHAKRHHGYKRKFHEKHHSHRGY',\n",
      " 'size': 10,\n",
      " 'databases': {'coil': '/home/tiagogomes/Desktop/projects/nuno_fernandes/tripeptide_db_moma_cortes/tripeptide_angles_data_UPDATED/tripeptide_angles_data_BEST_FORMATS/coil.parquet'},\n",
      " 'targets': {'A': [['MC', [1, 24], 'coil', 'TRIPEPTIDE']]},\n",
      " 'output_path': '.'}\n"
     ]
    }
   ],
   "source": [
    "import yaml\n",
    "import pprint\n",
    "\n",
    "HST5_PARAMS = 'input_parameters/generate_Hst5.yaml'\n",
    "\n",
    "# read\n",
    "with open(HST5_PARAMS) as parameters_file:\n",
    "    parameters = yaml.safe_load(parameters_file)\n",
    "\n",
    "# display\n",
    "pprint.pprint(parameters,sort_dicts=False,compact=True)"
   ]
  },
  {
   "cell_type": "markdown",
   "metadata": {},
   "source": [
    "## 2. Generating a conformational ensemble"
   ]
  },
  {
   "cell_type": "markdown",
   "metadata": {},
   "source": [
    "To generate a conformational ensemble for your protein of interest, you simply need to provide Ensemblify with your parameters file.\n",
    "\n",
    "For this example, we will use a parameters file created to sample Histatin5, a small IDP that can normally be found in saliva, where it acts as a defense against fungal infections.\n",
    "\n",
    "If you want to run this example on your machine, you must update in the parameters file the location of the database you wish to sample from."
   ]
  },
  {
   "cell_type": "code",
   "execution_count": 3,
   "metadata": {},
   "outputs": [
    {
     "name": "stdout",
     "output_type": "stream",
     "text": [
      "Generating ensemble of 10 valid pdbs using 31 processor cores... \n"
     ]
    },
    {
     "name": "stderr",
     "output_type": "stream",
     "text": [
      "Ensemblified!: 100%|██████████| 10/10 [00:06<00:00,  1.43valid_pdb/s]   "
     ]
    },
    {
     "name": "stdout",
     "output_type": "stream",
     "text": [
      "There are 10 valid pdbs, 5 were discarded ( 5 clashed | 0 violated constraints).\n",
      "Ensemble Generation Finished!\n"
     ]
    },
    {
     "name": "stderr",
     "output_type": "stream",
     "text": [
      "\n"
     ]
    }
   ],
   "source": [
    "from ensemblify.generation import generate_ensemble\n",
    "\n",
    "generated_ensemble_directory = generate_ensemble(parameters_path=HST5_PARAMS)"
   ]
  },
  {
   "cell_type": "markdown",
   "metadata": {},
   "source": [
    "We can then check the location of our freshly generated ensemble."
   ]
  },
  {
   "cell_type": "code",
   "execution_count": 4,
   "metadata": {},
   "outputs": [
    {
     "name": "stdout",
     "output_type": "stream",
     "text": [
      "./Hst5_test/ensemble/valid_pdbs\n"
     ]
    }
   ],
   "source": [
    "print(generated_ensemble_directory)"
   ]
  },
  {
   "cell_type": "markdown",
   "metadata": {},
   "source": [
    "# `conversion` module"
   ]
  },
  {
   "cell_type": "markdown",
   "metadata": {},
   "source": [
    "## 1. Converting an ensemble to a trajectory"
   ]
  },
  {
   "cell_type": "markdown",
   "metadata": {},
   "source": [
    "After generating an ensemble, you can convert your set of PDB files into XTC format, a compressed **trajectory** format from GROMACS. This allows for much more efficient storage of created ensembles with minimal loss of structural information. Additionally, we can take advantage of the many available methods for analyzing files in this format.\n",
    "\n",
    "To do so, you need only provide the location of your stored ensemble and the directory where you want to store your trajectory, optionally defining a prefix identifier for the created file.\n",
    "\n",
    "Along with the created trajectory, one of the structures of the generated ensemble is saved as a **topology** PDB file that contains atomic connectivity information, as this is not stored in the trajectory and is required when using the `analysis` module."
   ]
  },
  {
   "cell_type": "code",
   "execution_count": 5,
   "metadata": {},
   "outputs": [
    {
     "name": "stderr",
     "output_type": "stream",
     "text": [
      " Hst5 Trajectory creation complete! : 100%|██████████| 4/4 [00:00<00:00, 566.26step/s]\n"
     ]
    }
   ],
   "source": [
    "from ensemblify.conversion import ensemble2traj\n",
    "\n",
    "TRAJECTORY_DESTINATION = 'Hst5_test/trajectory'\n",
    "TRAJECTORY_ID = 'Hst5'\n",
    "\n",
    "trajectory_file, topology_file = ensemble2traj(ensemble_dir=generated_ensemble_directory,\n",
    "                                               trajectory_dir=TRAJECTORY_DESTINATION,\n",
    "                                               trajectory_id=TRAJECTORY_ID)"
   ]
  },
  {
   "cell_type": "markdown",
   "metadata": {},
   "source": [
    "We can then check the locations of your created trajectory and topology files."
   ]
  },
  {
   "cell_type": "code",
   "execution_count": 6,
   "metadata": {},
   "outputs": [
    {
     "name": "stdout",
     "output_type": "stream",
     "text": [
      "Hst5_test/trajectory/Hst5_trajectory.xtc\n",
      "Hst5_test/trajectory/Hst5_top.pdb\n"
     ]
    }
   ],
   "source": [
    "print(trajectory_file)\n",
    "print(topology_file)"
   ]
  },
  {
   "cell_type": "markdown",
   "metadata": {},
   "source": [
    "# `analysis` module"
   ]
  },
  {
   "cell_type": "markdown",
   "metadata": {},
   "source": [
    "# 1. Analyzing your created trajectory"
   ]
  },
  {
   "cell_type": "markdown",
   "metadata": {},
   "source": [
    "After creating your trajectory, you can use it to create an interactive analysis dashboard with different plots and figures which will aid you in the structural analysis of your protein using your created ensemble.\n",
    "\n",
    "To do this, specify the location of your **trajectory** and **topology** files and the output directory where you want to store your interactive dashboard and the figures and data used in its creation."
   ]
  },
  {
   "cell_type": "code",
   "execution_count": 7,
   "metadata": {},
   "outputs": [
    {
     "name": "stdout",
     "output_type": "stream",
     "text": [
      "Analyzing Hst5 trajectory...\n",
      "Calculating ramachandran data for Hst5...\n",
      "Calculating contact matrix for Hst5...\n"
     ]
    },
    {
     "name": "stderr",
     "output_type": "stream",
     "text": [
      "Calculating contact matrix...: 100%|██████████| 10/10 [00:00<00:00, 1576.87it/s]"
     ]
    },
    {
     "name": "stdout",
     "output_type": "stream",
     "text": [
      "Calculating distance matrix for Hst5...\n"
     ]
    },
    {
     "name": "stderr",
     "output_type": "stream",
     "text": [
      "\n",
      "Calculating distance matrix... : 100%|██████████| 10/10 [00:00<00:00, 2161.57it/s]"
     ]
    },
    {
     "name": "stdout",
     "output_type": "stream",
     "text": [
      "Calculating secondary structure assignment frequency matrix for Hst5...\n",
      "Calculating structural metrics data for Hst5...\n",
      "Calculating rg...\n"
     ]
    },
    {
     "name": "stderr",
     "output_type": "stream",
     "text": [
      "\n"
     ]
    },
    {
     "name": "stdout",
     "output_type": "stream",
     "text": [
      "Calculating eed...\n",
      "Calculating dmax...\n",
      "Creating Hst5 analysis figures...\n",
      "Building ['Hst5'] analysis dashboard...\n",
      "Ensemble analysis calculation has finished. Please consult the interactive analysis_dashboard.html figure.\n"
     ]
    }
   ],
   "source": [
    "from ensemblify.analysis import analyze_trajectory\n",
    "\n",
    "TRAJECTORY_ANALYSIS_OUTPUT = 'Hst5_test/trajectory_analysis'\n",
    "\n",
    "analysis_data = analyze_trajectory(trajectories=trajectory_file,\n",
    "                                   topologies=topology_file,\n",
    "                                   trajectory_ids=TRAJECTORY_ID,\n",
    "                                   output_directory=TRAJECTORY_ANALYSIS_OUTPUT)"
   ]
  },
  {
   "cell_type": "markdown",
   "metadata": {},
   "source": [
    "We can then open our analysis_dashboard HTML file in a web browser and interpret our results."
   ]
  },
  {
   "cell_type": "markdown",
   "metadata": {},
   "source": [
    "# `reweighting` module"
   ]
  },
  {
   "cell_type": "markdown",
   "metadata": {},
   "source": [
    "## 1. Reweighting your ensemble with experimental SAXS data"
   ]
  },
  {
   "cell_type": "markdown",
   "metadata": {},
   "source": [
    "After generating an ensemble, you can use experimental SAXS data to reweight it."
   ]
  },
  {
   "cell_type": "code",
   "execution_count": 8,
   "metadata": {},
   "outputs": [
    {
     "name": "stdout",
     "output_type": "stream",
     "text": [
      "Processing Hst5 experimental data file...\n",
      "Experimental errors on SAXS intensities have been corrected with BIFT using scale factor 1.0.\n"
     ]
    },
    {
     "name": "stderr",
     "output_type": "stream",
     "text": [
      "Calculating Hst5 SAXS data... : 100%|██████████| 10/10 [00:00<00:00, 46.02it/s]"
     ]
    },
    {
     "name": "stdout",
     "output_type": "stream",
     "text": [
      "Applying BME reweighting to Hst5 ensemble with different values for theta parameter...\n"
     ]
    },
    {
     "name": "stderr",
     "output_type": "stream",
     "text": [
      "\n",
      "Reweighting ensemble... : 100%|██████████| 12/12 [00:00<00:00, 143.69it/s]"
     ]
    },
    {
     "name": "stdout",
     "output_type": "stream",
     "text": [
      "Please analyze the provided interactive figure (effective_frames_fit.html) and input the desired value(s) for the theta parameter.\n",
      "If more than one value, please separate them using a comma.\n"
     ]
    },
    {
     "name": "stderr",
     "output_type": "stream",
     "text": [
      "\n"
     ]
    },
    {
     "name": "stdout",
     "output_type": "stream",
     "text": [
      "Chosen theta value(s): 200.\n",
      "No contact matrix data was provided.\n"
     ]
    },
    {
     "name": "stderr",
     "output_type": "stream",
     "text": [
      "Calculating contact matrix...: 100%|██████████| 10/10 [00:00<00:00, 993.82it/s]\n",
      "Calculating reweighted contact matrix...: 100%|██████████| 10/10 [00:00<00:00, 951.91it/s]"
     ]
    },
    {
     "name": "stdout",
     "output_type": "stream",
     "text": [
      "No distance matrix data was provided.\n"
     ]
    },
    {
     "name": "stderr",
     "output_type": "stream",
     "text": [
      "\n",
      "Calculating distance matrix... : 100%|██████████| 10/10 [00:00<00:00, 1546.12it/s]\n",
      "Calculating reweighted distance matrix... : 100%|██████████| 10/10 [00:00<00:00, 2204.98it/s]"
     ]
    },
    {
     "name": "stdout",
     "output_type": "stream",
     "text": [
      "No secondary structure assignment frequency matrix data was provided.\n",
      "Calculating reweighted secondary structure assignment frequency matrix...\n",
      "No structural metrics distributions data was provided.\n",
      "Calculating rg...\n"
     ]
    },
    {
     "name": "stderr",
     "output_type": "stream",
     "text": [
      "\n"
     ]
    },
    {
     "name": "stdout",
     "output_type": "stream",
     "text": [
      "Calculating eed...\n",
      "Calculating dmax...\n",
      "Creating Hst5 reweighted interactive figures...\n",
      "Building Hst5 reweighting dashboard...\n",
      "Ensemble reweighting has finished. Please refer to the interactive reweighting_dashboard.html figure for analysis.\n"
     ]
    }
   ],
   "source": [
    "from ensemblify.reweighting import reweight_ensemble\n",
    "\n",
    "EXP_SAXS_DATA_FILE = 'SAXS_data/bift_Hst5.dat'\n",
    "ENSEMBLE_REWEIGHTING_OUTPUT = 'Hst5_test/reweighting'\n",
    "\n",
    "reweight_ensemble(trajectory=trajectory_file,\n",
    "                  topology=topology_file,\n",
    "                  trajectory_id=TRAJECTORY_ID,\n",
    "                  exp_saxs_data=EXP_SAXS_DATA_FILE,\n",
    "                  output_dir=ENSEMBLE_REWEIGHTING_OUTPUT,)"
   ]
  },
  {
   "cell_type": "code",
   "execution_count": null,
   "metadata": {},
   "outputs": [],
   "source": []
  }
 ],
 "metadata": {
  "kernelspec": {
   "display_name": "ensemblify_env",
   "language": "python",
   "name": "python3"
  },
  "language_info": {
   "codemirror_mode": {
    "name": "ipython",
    "version": 3
   },
   "file_extension": ".py",
   "mimetype": "text/x-python",
   "name": "python",
   "nbconvert_exporter": "python",
   "pygments_lexer": "ipython3",
   "version": "3.10.15"
  }
 },
 "nbformat": 4,
 "nbformat_minor": 2
}
